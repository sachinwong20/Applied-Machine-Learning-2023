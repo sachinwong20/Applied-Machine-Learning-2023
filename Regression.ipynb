{
 "cells": [
  {
   "cell_type": "code",
   "execution_count": 2,
   "id": "f7571018",
   "metadata": {},
   "outputs": [],
   "source": [
    "import h5py\n",
    "import pandas as pd\n",
    "import numpy as np\n",
    "import time\n",
    "import warnings\n",
    "from matplotlib import pyplot as plt\n",
    "from sklearn.model_selection import train_test_split, RandomizedSearchCV\n",
    "from sklearn.decomposition import PCA, KernelPCA\n",
    "from sklearn import preprocessing\n",
    "from sklearn.metrics import roc_curve, accuracy_score, auc, confusion_matrix\n",
    "from scipy.stats import randint, poisson\n",
    "\n",
    "import lightgbm as lgb\n",
    "from lightgbm import LGBMRegressor\n",
    "from lightgbm import early_stopping\n",
    "from sklearn.metrics import accuracy_score\n",
    "\n",
    "def load_data(name):\n",
    "    with h5py.File(f'{name}.h5', 'r') as f:\n",
    "        filename = name.split('/')[1]\n",
    "        return pd.DataFrame(f[filename][:], dtype=np.float64)\n",
    "\n",
    "train = load_data('data/train')\n",
    "test  = load_data('data/test')"
   ]
  },
  {
   "cell_type": "code",
   "execution_count": 3,
   "id": "63bd3bb3",
   "metadata": {},
   "outputs": [
    {
     "name": "stdout",
     "output_type": "stream",
     "text": [
      "Shape of training data set: (162500, 166)\n",
      "Shape of test data set: (160651, 164)\n"
     ]
    }
   ],
   "source": [
    "print (f'Shape of training data set: {train.shape}')\n",
    "print (f'Shape of test data set: {test.shape}')"
   ]
  },
  {
   "cell_type": "code",
   "execution_count": 4,
   "id": "34e7759d",
   "metadata": {},
   "outputs": [],
   "source": [
    "all_variables = ['actualInteractionsPerCrossing', 'averageInteractionsPerCrossing', 'correctedActualMu', 'correctedAverageMu', 'correctedScaledActualMu', 'correctedScaledAverageMu', 'NvtxReco', 'p_nTracks', 'p_pt_track', 'p_eta', 'p_phi', 'p_charge', 'p_qOverP', 'p_z0', 'p_d0', 'p_sigmad0', 'p_d0Sig', 'p_EptRatio', 'p_dPOverP', 'p_z0theta', 'p_etaCluster', 'p_phiCluster', 'p_eCluster', 'p_rawEtaCluster', 'p_rawPhiCluster', 'p_rawECluster', 'p_eClusterLr0', 'p_eClusterLr1', 'p_eClusterLr2', 'p_eClusterLr3', 'p_etaClusterLr1', 'p_etaClusterLr2', 'p_phiClusterLr2', 'p_eAccCluster', 'p_f0Cluster', 'p_etaCalo', 'p_phiCalo', 'p_eTileGap3Cluster', 'p_cellIndexCluster', 'p_phiModCalo', 'p_etaModCalo', 'p_dPhiTH3', 'p_R12', 'p_fTG3', 'p_weta2', 'p_Reta', 'p_Rphi', 'p_Eratio', 'p_f1', 'p_f3', 'p_Rhad', 'p_Rhad1', 'p_deltaEta1', 'p_deltaPhiRescaled2', 'p_TRTPID', 'p_TRTTrackOccupancy', 'p_numberOfInnermostPixelHits', 'p_numberOfPixelHits', 'p_numberOfSCTHits', 'p_numberOfTRTHits', 'p_numberOfTRTXenonHits', 'p_chi2', 'p_ndof', 'p_SharedMuonTrack', 'p_E7x7_Lr2', 'p_E7x7_Lr3', 'p_E_Lr0_HiG', 'p_E_Lr0_LowG', 'p_E_Lr0_MedG', 'p_E_Lr1_HiG', 'p_E_Lr1_LowG', 'p_E_Lr1_MedG', 'p_E_Lr2_HiG', 'p_E_Lr2_LowG', 'p_E_Lr2_MedG', 'p_E_Lr3_HiG', 'p_E_Lr3_LowG', 'p_E_Lr3_MedG', 'p_ambiguityType', 'p_asy1', 'p_author', 'p_barys1', 'p_core57cellsEnergyCorrection', 'p_deltaEta0', 'p_deltaEta2', 'p_deltaEta3', 'p_deltaPhi0', 'p_deltaPhi1', 'p_deltaPhi2', 'p_deltaPhi3', 'p_deltaPhiFromLastMeasurement', 'p_deltaPhiRescaled0', 'p_deltaPhiRescaled1', 'p_deltaPhiRescaled3', 'p_e1152', 'p_e132', 'p_e235', 'p_e255', 'p_e2ts1', 'p_ecore', 'p_emins1', 'p_etconeCorrBitset', 'p_ethad', 'p_ethad1', 'p_f1core', 'p_f3core', 'p_maxEcell_energy', 'p_maxEcell_gain', 'p_maxEcell_time', 'p_maxEcell_x', 'p_maxEcell_y', 'p_maxEcell_z', 'p_nCells_Lr0_HiG', 'p_nCells_Lr0_LowG', 'p_nCells_Lr0_MedG', 'p_nCells_Lr1_HiG', 'p_nCells_Lr1_LowG', 'p_nCells_Lr1_MedG', 'p_nCells_Lr2_HiG', 'p_nCells_Lr2_LowG', 'p_nCells_Lr2_MedG', 'p_nCells_Lr3_HiG', 'p_nCells_Lr3_LowG', 'p_nCells_Lr3_MedG', 'p_pos', 'p_pos7', 'p_poscs1', 'p_poscs2', 'p_ptconeCorrBitset', 'p_ptconecoreTrackPtrCorrection', 'p_r33over37allcalo', 'p_topoetconeCorrBitset', 'p_topoetconecoreConeEnergyCorrection', 'p_topoetconecoreConeSCEnergyCorrection', 'p_weta1', 'p_widths1', 'p_widths2', 'p_wtots1', 'p_e233', 'p_e237', 'p_e277', 'p_e2tsts1', 'p_ehad1', 'p_emaxs1', 'p_fracs1', 'p_DeltaE', 'p_E3x5_Lr0', 'p_E3x5_Lr1', 'p_E3x5_Lr2', 'p_E3x5_Lr3', 'p_E5x7_Lr0', 'p_E5x7_Lr1', 'p_E5x7_Lr2', 'p_E5x7_Lr3', 'p_E7x11_Lr0', 'p_E7x11_Lr1', 'p_E7x11_Lr2', 'p_E7x11_Lr3', 'p_E7x7_Lr0', 'p_E7x7_Lr1' ]"
   ]
  },
  {
   "cell_type": "code",
   "execution_count": 5,
   "id": "4603d832",
   "metadata": {
    "scrolled": true
   },
   "outputs": [
    {
     "name": "stdout",
     "output_type": "stream",
     "text": [
      "Shape of X: (121495, 20)\n",
      "Shape of y: (121495,)\n",
      "Shape of X_real: (160651, 20)\n"
     ]
    }
   ],
   "source": [
    "train = train[train.Truth != 0]\n",
    "\n",
    "bv = [22, 33, 12, 52, 84, 115, 99, 25, 82, 135, 17, 130, 8, 14, 92, 7, 147, 144, 145, 16]\n",
    "best_variables = []\n",
    "for i in range(len(bv)): #converting into variable names\n",
    "    best_variables.append(all_variables[bv[i]])\n",
    "\n",
    "X = train[best_variables]\n",
    "y = train['p_truth_E']\n",
    "\n",
    "X_real = test[best_variables]\n",
    "    \n",
    "#making a cut of the data\n",
    "n = 120000\n",
    "idxs = np.arange(train.shape[0])\n",
    "idxs_rand = np.random.choice(idxs, size=n)\n",
    "train_cut = train.iloc[idxs_rand]\n",
    "\n",
    "X_cut = train_cut[best_variables]\n",
    "y_cut = train_cut['p_truth_E']\n",
    "\n",
    "#transform = preprocessing.StandardScaler()\n",
    "#X_std = transform.fit_transform(X)\n",
    "\n",
    "input_train, input_test, truth_train, truth_test = train_test_split(X_cut, y_cut, test_size=0.25, random_state=42)\n",
    "\n",
    "print (f'Shape of X: {X.shape}')\n",
    "print (f'Shape of y: {y.shape}')\n",
    "print (f'Shape of X_real: {X_real.shape}')"
   ]
  },
  {
   "cell_type": "markdown",
   "id": "f62e616c",
   "metadata": {},
   "source": [
    "# LightGBM Regressor"
   ]
  },
  {
   "cell_type": "code",
   "execution_count": 17,
   "id": "2373e591",
   "metadata": {
    "scrolled": false
   },
   "outputs": [
    {
     "name": "stderr",
     "output_type": "stream",
     "text": [
      "C:\\Users\\night\\anaconda3\\lib\\site-packages\\lightgbm\\sklearn.py:726: UserWarning: 'early_stopping_rounds' argument is deprecated and will be removed in a future release of LightGBM. Pass 'early_stopping()' callback via 'callbacks' argument instead.\n",
      "  _log_warning(\"'early_stopping_rounds' argument is deprecated and will be removed in a future release of LightGBM. \"\n",
      "C:\\Users\\night\\anaconda3\\lib\\site-packages\\lightgbm\\sklearn.py:736: UserWarning: 'verbose' argument is deprecated and will be removed in a future release of LightGBM. Pass 'log_evaluation()' callback via 'callbacks' argument instead.\n",
      "  _log_warning(\"'verbose' argument is deprecated and will be removed in a future release of LightGBM. \"\n"
     ]
    },
    {
     "name": "stdout",
     "output_type": "stream",
     "text": [
      "[LightGBM] [Warning] min_data_in_leaf is set with min_child_samples=20, will be overridden by min_samples_leaf=35. Current value: min_data_in_leaf=35\n",
      "Time used: 2585.3 ms\n",
      "Accuracy : 0.9501223145491636\n",
      "0.9752484570519555\n"
     ]
    }
   ],
   "source": [
    "start = time.time()\n",
    "clf = LGBMRegressor(max_depth=13, min_samples_leaf=35, n_estimators=1000)\n",
    "clf.fit(input_train, truth_train, eval_set=[(input_test, truth_test)], early_stopping_rounds=50, verbose=-1)\n",
    "end = time.time()\n",
    "\n",
    "print(f\"Time used: {(end-start)*1000:.1f} ms\")\n",
    "print(f\"Accuracy : {clf.score(input_test, truth_test)}\")\n",
    "print(clf.score(input_train, truth_train))\n",
    "y_real = clf.predict(X_real, num_iteration=clf.best_iteration_)"
   ]
  },
  {
   "cell_type": "code",
   "execution_count": 18,
   "id": "8f48ea4e",
   "metadata": {},
   "outputs": [],
   "source": [
    "results_clf = pd.DataFrame(y_real)\n",
    "#results_clf.to_csv('solutions/Regression_SW_lgbmreg.txt', sep=',', header=False)\n",
    "\n",
    "bvdf = pd.DataFrame(best_variables)\n",
    "#bvdf.to_csv('solutions/Regression_SW_lgbmreg_VariableList.txt', sep=',', header=False, index=False)"
   ]
  },
  {
   "cell_type": "code",
   "execution_count": 7,
   "id": "5693ddd0",
   "metadata": {},
   "outputs": [],
   "source": [
    "parameters_RandomSearch = {'max_depth': poisson(25), \n",
    "                           'min_samples_leaf': randint(20, 50)}\n",
    "warnings.filterwarnings(\"ignore\")\n",
    "n_iter_search = 20\n",
    "RandomSearch = RandomizedSearchCV(clf, \n",
    "                                  param_distributions=parameters_RandomSearch, \n",
    "                                  n_iter=n_iter_search, \n",
    "                                  cv=5,\n",
    "                                  verbose=-1,\n",
    "                                  return_train_score=True,\n",
    "                                  random_state=42,\n",
    "                                 )"
   ]
  },
  {
   "cell_type": "code",
   "execution_count": 8,
   "id": "ed950227",
   "metadata": {},
   "outputs": [
    {
     "name": "stdout",
     "output_type": "stream",
     "text": [
      "[LightGBM] [Warning] min_data_in_leaf is set with min_child_samples=20, will be overridden by min_samples_leaf=30. Current value: min_data_in_leaf=30\n",
      "[LightGBM] [Warning] min_data_in_leaf is set with min_child_samples=20, will be overridden by min_samples_leaf=30. Current value: min_data_in_leaf=30\n",
      "[LightGBM] [Warning] min_data_in_leaf is set with min_child_samples=20, will be overridden by min_samples_leaf=30. Current value: min_data_in_leaf=30\n",
      "[LightGBM] [Warning] min_data_in_leaf is set with min_child_samples=20, will be overridden by min_samples_leaf=30. Current value: min_data_in_leaf=30\n",
      "[LightGBM] [Warning] min_data_in_leaf is set with min_child_samples=20, will be overridden by min_samples_leaf=30. Current value: min_data_in_leaf=30\n",
      "[LightGBM] [Warning] min_data_in_leaf is set with min_child_samples=20, will be overridden by min_samples_leaf=45. Current value: min_data_in_leaf=45\n",
      "[LightGBM] [Warning] min_data_in_leaf is set with min_child_samples=20, will be overridden by min_samples_leaf=45. Current value: min_data_in_leaf=45\n",
      "[LightGBM] [Warning] min_data_in_leaf is set with min_child_samples=20, will be overridden by min_samples_leaf=45. Current value: min_data_in_leaf=45\n",
      "[LightGBM] [Warning] min_data_in_leaf is set with min_child_samples=20, will be overridden by min_samples_leaf=45. Current value: min_data_in_leaf=45\n",
      "[LightGBM] [Warning] min_data_in_leaf is set with min_child_samples=20, will be overridden by min_samples_leaf=45. Current value: min_data_in_leaf=45\n",
      "[LightGBM] [Warning] min_data_in_leaf is set with min_child_samples=20, will be overridden by min_samples_leaf=43. Current value: min_data_in_leaf=43\n",
      "[LightGBM] [Warning] min_data_in_leaf is set with min_child_samples=20, will be overridden by min_samples_leaf=43. Current value: min_data_in_leaf=43\n",
      "[LightGBM] [Warning] min_data_in_leaf is set with min_child_samples=20, will be overridden by min_samples_leaf=43. Current value: min_data_in_leaf=43\n",
      "[LightGBM] [Warning] min_data_in_leaf is set with min_child_samples=20, will be overridden by min_samples_leaf=43. Current value: min_data_in_leaf=43\n",
      "[LightGBM] [Warning] min_data_in_leaf is set with min_child_samples=20, will be overridden by min_samples_leaf=43. Current value: min_data_in_leaf=43\n",
      "[LightGBM] [Warning] min_data_in_leaf is set with min_child_samples=20, will be overridden by min_samples_leaf=22. Current value: min_data_in_leaf=22\n",
      "[LightGBM] [Warning] min_data_in_leaf is set with min_child_samples=20, will be overridden by min_samples_leaf=22. Current value: min_data_in_leaf=22\n",
      "[LightGBM] [Warning] min_data_in_leaf is set with min_child_samples=20, will be overridden by min_samples_leaf=22. Current value: min_data_in_leaf=22\n",
      "[LightGBM] [Warning] min_data_in_leaf is set with min_child_samples=20, will be overridden by min_samples_leaf=22. Current value: min_data_in_leaf=22\n",
      "[LightGBM] [Warning] min_data_in_leaf is set with min_child_samples=20, will be overridden by min_samples_leaf=22. Current value: min_data_in_leaf=22\n",
      "[LightGBM] [Warning] min_data_in_leaf is set with min_child_samples=20, will be overridden by min_samples_leaf=47. Current value: min_data_in_leaf=47\n",
      "[LightGBM] [Warning] min_data_in_leaf is set with min_child_samples=20, will be overridden by min_samples_leaf=47. Current value: min_data_in_leaf=47\n",
      "[LightGBM] [Warning] min_data_in_leaf is set with min_child_samples=20, will be overridden by min_samples_leaf=47. Current value: min_data_in_leaf=47\n",
      "[LightGBM] [Warning] min_data_in_leaf is set with min_child_samples=20, will be overridden by min_samples_leaf=47. Current value: min_data_in_leaf=47\n",
      "[LightGBM] [Warning] min_data_in_leaf is set with min_child_samples=20, will be overridden by min_samples_leaf=47. Current value: min_data_in_leaf=47\n",
      "[LightGBM] [Warning] min_data_in_leaf is set with min_child_samples=20, will be overridden by min_samples_leaf=41. Current value: min_data_in_leaf=41\n",
      "[LightGBM] [Warning] min_data_in_leaf is set with min_child_samples=20, will be overridden by min_samples_leaf=41. Current value: min_data_in_leaf=41\n",
      "[LightGBM] [Warning] min_data_in_leaf is set with min_child_samples=20, will be overridden by min_samples_leaf=41. Current value: min_data_in_leaf=41\n",
      "[LightGBM] [Warning] min_data_in_leaf is set with min_child_samples=20, will be overridden by min_samples_leaf=41. Current value: min_data_in_leaf=41\n",
      "[LightGBM] [Warning] min_data_in_leaf is set with min_child_samples=20, will be overridden by min_samples_leaf=41. Current value: min_data_in_leaf=41\n",
      "[LightGBM] [Warning] min_data_in_leaf is set with min_child_samples=20, will be overridden by min_samples_leaf=47. Current value: min_data_in_leaf=47\n",
      "[LightGBM] [Warning] min_data_in_leaf is set with min_child_samples=20, will be overridden by min_samples_leaf=47. Current value: min_data_in_leaf=47\n",
      "[LightGBM] [Warning] min_data_in_leaf is set with min_child_samples=20, will be overridden by min_samples_leaf=47. Current value: min_data_in_leaf=47\n",
      "[LightGBM] [Warning] min_data_in_leaf is set with min_child_samples=20, will be overridden by min_samples_leaf=47. Current value: min_data_in_leaf=47\n",
      "[LightGBM] [Warning] min_data_in_leaf is set with min_child_samples=20, will be overridden by min_samples_leaf=47. Current value: min_data_in_leaf=47\n",
      "[LightGBM] [Warning] min_data_in_leaf is set with min_child_samples=20, will be overridden by min_samples_leaf=49. Current value: min_data_in_leaf=49\n",
      "[LightGBM] [Warning] min_data_in_leaf is set with min_child_samples=20, will be overridden by min_samples_leaf=49. Current value: min_data_in_leaf=49\n",
      "[LightGBM] [Warning] min_data_in_leaf is set with min_child_samples=20, will be overridden by min_samples_leaf=49. Current value: min_data_in_leaf=49\n",
      "[LightGBM] [Warning] min_data_in_leaf is set with min_child_samples=20, will be overridden by min_samples_leaf=49. Current value: min_data_in_leaf=49\n",
      "[LightGBM] [Warning] min_data_in_leaf is set with min_child_samples=20, will be overridden by min_samples_leaf=49. Current value: min_data_in_leaf=49\n",
      "[LightGBM] [Warning] min_data_in_leaf is set with min_child_samples=20, will be overridden by min_samples_leaf=42. Current value: min_data_in_leaf=42\n",
      "[LightGBM] [Warning] min_data_in_leaf is set with min_child_samples=20, will be overridden by min_samples_leaf=42. Current value: min_data_in_leaf=42\n",
      "[LightGBM] [Warning] min_data_in_leaf is set with min_child_samples=20, will be overridden by min_samples_leaf=42. Current value: min_data_in_leaf=42\n",
      "[LightGBM] [Warning] min_data_in_leaf is set with min_child_samples=20, will be overridden by min_samples_leaf=42. Current value: min_data_in_leaf=42\n",
      "[LightGBM] [Warning] min_data_in_leaf is set with min_child_samples=20, will be overridden by min_samples_leaf=42. Current value: min_data_in_leaf=42\n",
      "[LightGBM] [Warning] min_data_in_leaf is set with min_child_samples=20, will be overridden by min_samples_leaf=28. Current value: min_data_in_leaf=28\n",
      "[LightGBM] [Warning] min_data_in_leaf is set with min_child_samples=20, will be overridden by min_samples_leaf=28. Current value: min_data_in_leaf=28\n",
      "[LightGBM] [Warning] min_data_in_leaf is set with min_child_samples=20, will be overridden by min_samples_leaf=28. Current value: min_data_in_leaf=28\n",
      "[LightGBM] [Warning] min_data_in_leaf is set with min_child_samples=20, will be overridden by min_samples_leaf=28. Current value: min_data_in_leaf=28\n",
      "[LightGBM] [Warning] min_data_in_leaf is set with min_child_samples=20, will be overridden by min_samples_leaf=28. Current value: min_data_in_leaf=28\n",
      "[LightGBM] [Warning] min_data_in_leaf is set with min_child_samples=20, will be overridden by min_samples_leaf=39. Current value: min_data_in_leaf=39\n",
      "[LightGBM] [Warning] min_data_in_leaf is set with min_child_samples=20, will be overridden by min_samples_leaf=39. Current value: min_data_in_leaf=39\n",
      "[LightGBM] [Warning] min_data_in_leaf is set with min_child_samples=20, will be overridden by min_samples_leaf=39. Current value: min_data_in_leaf=39\n",
      "[LightGBM] [Warning] min_data_in_leaf is set with min_child_samples=20, will be overridden by min_samples_leaf=39. Current value: min_data_in_leaf=39\n",
      "[LightGBM] [Warning] min_data_in_leaf is set with min_child_samples=20, will be overridden by min_samples_leaf=39. Current value: min_data_in_leaf=39\n"
     ]
    },
    {
     "name": "stdout",
     "output_type": "stream",
     "text": [
      "[LightGBM] [Warning] min_data_in_leaf is set with min_child_samples=20, will be overridden by min_samples_leaf=31. Current value: min_data_in_leaf=31\n",
      "[LightGBM] [Warning] min_data_in_leaf is set with min_child_samples=20, will be overridden by min_samples_leaf=31. Current value: min_data_in_leaf=31\n",
      "[LightGBM] [Warning] min_data_in_leaf is set with min_child_samples=20, will be overridden by min_samples_leaf=31. Current value: min_data_in_leaf=31\n",
      "[LightGBM] [Warning] min_data_in_leaf is set with min_child_samples=20, will be overridden by min_samples_leaf=31. Current value: min_data_in_leaf=31\n",
      "[LightGBM] [Warning] min_data_in_leaf is set with min_child_samples=20, will be overridden by min_samples_leaf=31. Current value: min_data_in_leaf=31\n",
      "[LightGBM] [Warning] min_data_in_leaf is set with min_child_samples=20, will be overridden by min_samples_leaf=33. Current value: min_data_in_leaf=33\n",
      "[LightGBM] [Warning] min_data_in_leaf is set with min_child_samples=20, will be overridden by min_samples_leaf=33. Current value: min_data_in_leaf=33\n",
      "[LightGBM] [Warning] min_data_in_leaf is set with min_child_samples=20, will be overridden by min_samples_leaf=33. Current value: min_data_in_leaf=33\n",
      "[LightGBM] [Warning] min_data_in_leaf is set with min_child_samples=20, will be overridden by min_samples_leaf=33. Current value: min_data_in_leaf=33\n",
      "[LightGBM] [Warning] min_data_in_leaf is set with min_child_samples=20, will be overridden by min_samples_leaf=33. Current value: min_data_in_leaf=33\n",
      "[LightGBM] [Warning] min_data_in_leaf is set with min_child_samples=20, will be overridden by min_samples_leaf=23. Current value: min_data_in_leaf=23\n",
      "[LightGBM] [Warning] min_data_in_leaf is set with min_child_samples=20, will be overridden by min_samples_leaf=23. Current value: min_data_in_leaf=23\n",
      "[LightGBM] [Warning] min_data_in_leaf is set with min_child_samples=20, will be overridden by min_samples_leaf=23. Current value: min_data_in_leaf=23\n",
      "[LightGBM] [Warning] min_data_in_leaf is set with min_child_samples=20, will be overridden by min_samples_leaf=23. Current value: min_data_in_leaf=23\n",
      "[LightGBM] [Warning] min_data_in_leaf is set with min_child_samples=20, will be overridden by min_samples_leaf=23. Current value: min_data_in_leaf=23\n",
      "[LightGBM] [Warning] min_data_in_leaf is set with min_child_samples=20, will be overridden by min_samples_leaf=29. Current value: min_data_in_leaf=29\n",
      "[LightGBM] [Warning] min_data_in_leaf is set with min_child_samples=20, will be overridden by min_samples_leaf=29. Current value: min_data_in_leaf=29\n",
      "[LightGBM] [Warning] min_data_in_leaf is set with min_child_samples=20, will be overridden by min_samples_leaf=29. Current value: min_data_in_leaf=29\n",
      "[LightGBM] [Warning] min_data_in_leaf is set with min_child_samples=20, will be overridden by min_samples_leaf=29. Current value: min_data_in_leaf=29\n",
      "[LightGBM] [Warning] min_data_in_leaf is set with min_child_samples=20, will be overridden by min_samples_leaf=29. Current value: min_data_in_leaf=29\n",
      "[LightGBM] [Warning] min_data_in_leaf is set with min_child_samples=20, will be overridden by min_samples_leaf=37. Current value: min_data_in_leaf=37\n",
      "[LightGBM] [Warning] min_data_in_leaf is set with min_child_samples=20, will be overridden by min_samples_leaf=37. Current value: min_data_in_leaf=37\n",
      "[LightGBM] [Warning] min_data_in_leaf is set with min_child_samples=20, will be overridden by min_samples_leaf=37. Current value: min_data_in_leaf=37\n",
      "[LightGBM] [Warning] min_data_in_leaf is set with min_child_samples=20, will be overridden by min_samples_leaf=37. Current value: min_data_in_leaf=37\n",
      "[LightGBM] [Warning] min_data_in_leaf is set with min_child_samples=20, will be overridden by min_samples_leaf=37. Current value: min_data_in_leaf=37\n",
      "[LightGBM] [Warning] min_data_in_leaf is set with min_child_samples=20, will be overridden by min_samples_leaf=35. Current value: min_data_in_leaf=35\n",
      "[LightGBM] [Warning] min_data_in_leaf is set with min_child_samples=20, will be overridden by min_samples_leaf=35. Current value: min_data_in_leaf=35\n",
      "[LightGBM] [Warning] min_data_in_leaf is set with min_child_samples=20, will be overridden by min_samples_leaf=35. Current value: min_data_in_leaf=35\n",
      "[LightGBM] [Warning] min_data_in_leaf is set with min_child_samples=20, will be overridden by min_samples_leaf=35. Current value: min_data_in_leaf=35\n",
      "[LightGBM] [Warning] min_data_in_leaf is set with min_child_samples=20, will be overridden by min_samples_leaf=35. Current value: min_data_in_leaf=35\n",
      "[LightGBM] [Warning] min_data_in_leaf is set with min_child_samples=20, will be overridden by min_samples_leaf=47. Current value: min_data_in_leaf=47\n",
      "[LightGBM] [Warning] min_data_in_leaf is set with min_child_samples=20, will be overridden by min_samples_leaf=47. Current value: min_data_in_leaf=47\n",
      "[LightGBM] [Warning] min_data_in_leaf is set with min_child_samples=20, will be overridden by min_samples_leaf=47. Current value: min_data_in_leaf=47\n",
      "[LightGBM] [Warning] min_data_in_leaf is set with min_child_samples=20, will be overridden by min_samples_leaf=47. Current value: min_data_in_leaf=47\n",
      "[LightGBM] [Warning] min_data_in_leaf is set with min_child_samples=20, will be overridden by min_samples_leaf=47. Current value: min_data_in_leaf=47\n",
      "[LightGBM] [Warning] min_data_in_leaf is set with min_child_samples=20, will be overridden by min_samples_leaf=35. Current value: min_data_in_leaf=35\n",
      "[LightGBM] [Warning] min_data_in_leaf is set with min_child_samples=20, will be overridden by min_samples_leaf=35. Current value: min_data_in_leaf=35\n",
      "[LightGBM] [Warning] min_data_in_leaf is set with min_child_samples=20, will be overridden by min_samples_leaf=35. Current value: min_data_in_leaf=35\n",
      "[LightGBM] [Warning] min_data_in_leaf is set with min_child_samples=20, will be overridden by min_samples_leaf=35. Current value: min_data_in_leaf=35\n",
      "[LightGBM] [Warning] min_data_in_leaf is set with min_child_samples=20, will be overridden by min_samples_leaf=35. Current value: min_data_in_leaf=35\n",
      "[LightGBM] [Warning] min_data_in_leaf is set with min_child_samples=20, will be overridden by min_samples_leaf=43. Current value: min_data_in_leaf=43\n",
      "[LightGBM] [Warning] min_data_in_leaf is set with min_child_samples=20, will be overridden by min_samples_leaf=43. Current value: min_data_in_leaf=43\n",
      "[LightGBM] [Warning] min_data_in_leaf is set with min_child_samples=20, will be overridden by min_samples_leaf=43. Current value: min_data_in_leaf=43\n",
      "[LightGBM] [Warning] min_data_in_leaf is set with min_child_samples=20, will be overridden by min_samples_leaf=43. Current value: min_data_in_leaf=43\n",
      "[LightGBM] [Warning] min_data_in_leaf is set with min_child_samples=20, will be overridden by min_samples_leaf=43. Current value: min_data_in_leaf=43\n",
      "[LightGBM] [Warning] min_data_in_leaf is set with min_child_samples=20, will be overridden by min_samples_leaf=35. Current value: min_data_in_leaf=35\n",
      "Random Search: \tBest parameters:  {'max_depth': 13, 'min_samples_leaf': 35} , Best scores: 0.921\n"
     ]
    }
   ],
   "source": [
    "warnings.filterwarnings(\"ignore\")\n",
    "RandomSearch.fit(input_train, truth_train); #takes a long time to run!\n",
    "RandomSearch_results = pd.DataFrame(RandomSearch.cv_results_)                 \n",
    "print(\"Random Search: \\tBest parameters: \", RandomSearch.best_params_, f\", Best scores: {RandomSearch.best_score_:.3f}\")"
   ]
  },
  {
   "cell_type": "code",
   "execution_count": null,
   "id": "a3f699d9",
   "metadata": {},
   "outputs": [],
   "source": [
    "35, 9, 0.923\n",
    "22, 23, 0.923\n",
    "17, 36, 0.923\n",
    "25, 33\n",
    "13, 35, 0.921"
   ]
  },
  {
   "cell_type": "code",
   "execution_count": 13,
   "id": "4b090544",
   "metadata": {},
   "outputs": [
    {
     "name": "stdout",
     "output_type": "stream",
     "text": [
      "[LightGBM] [Warning] min_data_in_leaf is set with min_child_samples=20, will be overridden by min_samples_leaf=35. Current value: min_data_in_leaf=35\n",
      "[LightGBM] [Warning] min_data_in_leaf is set with min_child_samples=20, will be overridden by min_samples_leaf=35. Current value: min_data_in_leaf=35\n",
      "[LightGBM] [Warning] min_data_in_leaf is set with min_child_samples=20, will be overridden by min_samples_leaf=35. Current value: min_data_in_leaf=35\n",
      "[LightGBM] [Warning] min_data_in_leaf is set with min_child_samples=20, will be overridden by min_samples_leaf=35. Current value: min_data_in_leaf=35\n",
      "[LightGBM] [Warning] min_data_in_leaf is set with min_child_samples=20, will be overridden by min_samples_leaf=35. Current value: min_data_in_leaf=35\n",
      "[LightGBM] [Warning] min_data_in_leaf is set with min_child_samples=20, will be overridden by min_samples_leaf=35. Current value: min_data_in_leaf=35\n",
      "[LightGBM] [Warning] min_data_in_leaf is set with min_child_samples=20, will be overridden by min_samples_leaf=35. Current value: min_data_in_leaf=35\n",
      "[LightGBM] [Warning] min_data_in_leaf is set with min_child_samples=20, will be overridden by min_samples_leaf=35. Current value: min_data_in_leaf=35\n",
      "[LightGBM] [Warning] min_data_in_leaf is set with min_child_samples=20, will be overridden by min_samples_leaf=35. Current value: min_data_in_leaf=35\n",
      "[LightGBM] [Warning] min_data_in_leaf is set with min_child_samples=20, will be overridden by min_samples_leaf=35. Current value: min_data_in_leaf=35\n",
      "0.92 accuracy with a standard deviation of 0.00\n"
     ]
    }
   ],
   "source": [
    "from sklearn.model_selection import cross_val_score\n",
    "scores = cross_val_score(clf, X, y, cv=10)\n",
    "print(\"%0.2f accuracy with a standard deviation of %0.2f\" % (scores.mean(), scores.std()))"
   ]
  },
  {
   "cell_type": "code",
   "execution_count": 57,
   "id": "0ad266bb",
   "metadata": {},
   "outputs": [
    {
     "name": "stdout",
     "output_type": "stream",
     "text": [
      "[0.93706232 0.92688054 0.90363051 0.91489458 0.9132291 ]\n"
     ]
    }
   ],
   "source": [
    "print(scores)"
   ]
  },
  {
   "cell_type": "markdown",
   "id": "0d5c753d",
   "metadata": {},
   "source": [
    "# Neural Network Method"
   ]
  },
  {
   "cell_type": "code",
   "execution_count": null,
   "id": "2c570d5f",
   "metadata": {},
   "outputs": [],
   "source": [
    "from sklearn.neural_network import MLPRegressor\n",
    "transform = preprocessing.StandardScaler()\n",
    "train_std = transform.fit_transform(input_train)\n",
    "test_std = transform.fit_transform(input_test)\n",
    "X_std = transform.fit_transform(X_real)\n",
    "\n",
    "start = time.time()\n",
    "clf_nn = MLPRegressor(max_iter=1000,\n",
    "                    n_iter_no_change=50,           # Number of iterations without improvement before stopping\n",
    "                    solver='adam',                  # Standard for minimising\n",
    "                    activation='relu',          # Standard function (but slightly slower)\n",
    "                    hidden_layer_sizes=(20, 20),    # Size of network (same as ALEPH)\n",
    "                    learning_rate='adaptive',     # Other options are \"constant\" and \"adaptive\"\n",
    "                    learning_rate_init=0.02,\n",
    "                    early_stopping=True,\n",
    "                    random_state=42)\n",
    "clf_nn.fit(train_std, truth_train)\n",
    "ynnreal = clf_nn.predict(X_std)\n",
    "# Print the time usage:\n",
    "end = time.time()\n",
    "print(f\"Time used by MLPClassifier: {(end-start)*1000:.1f} ms\")\n",
    "#y_score_MLP = clf_nn.predict_proba(test_std)\n",
    "accuracy = clf_nn.score(test_std, truth_test)\n",
    "print(accuracy)\n",
    "tg = clf_nn.score(train_std, truth_train)\n",
    "print(tg)"
   ]
  },
  {
   "cell_type": "code",
   "execution_count": 17,
   "id": "6febb8bf",
   "metadata": {},
   "outputs": [],
   "source": [
    "import random\n",
    "parameters_RandomSearch = {'learning_rate_init': np.linspace(0.001,0.01,10)}\n",
    "warnings.filterwarnings(\"ignore\")\n",
    "n_iter_search = 10\n",
    "RandomSearch = RandomizedSearchCV(clf_nn, \n",
    "                                  param_distributions=parameters_RandomSearch, \n",
    "                                  n_iter=n_iter_search, \n",
    "                                  cv=5,\n",
    "                                  verbose=-1,\n",
    "                                  return_train_score=True,\n",
    "                                  random_state=42,\n",
    "                                 )"
   ]
  },
  {
   "cell_type": "code",
   "execution_count": null,
   "id": "efc6bb27",
   "metadata": {},
   "outputs": [],
   "source": [
    "warnings.filterwarnings(\"ignore\")\n",
    "RandomSearch.fit(train_std, truth_train); #takes a long time to run!\n",
    "RandomSearch_results = pd.DataFrame(RandomSearch.cv_results_)                 \n",
    "print(\"Random Search: \\tBest parameters: \", RandomSearch.best_params_, f\", Best scores: {RandomSearch.best_score_:.3f}\")"
   ]
  },
  {
   "cell_type": "code",
   "execution_count": 20,
   "id": "58b3790b",
   "metadata": {},
   "outputs": [
    {
     "name": "stdout",
     "output_type": "stream",
     "text": [
      "                    0\n",
      "0        85884.722452\n",
      "1        92712.618080\n",
      "2       229863.267954\n",
      "3       111699.674694\n",
      "4        91272.808149\n",
      "...               ...\n",
      "160646  221962.149015\n",
      "160647  133139.601511\n",
      "160648  119693.292576\n",
      "160649   96414.490682\n",
      "160650  159121.439637\n",
      "\n",
      "[160651 rows x 1 columns]\n"
     ]
    }
   ],
   "source": [
    "y_nn = pd.DataFrame(ynnreal)\n",
    "print(y_nn)\n",
    "results_nn = y_nn\n",
    "#results_nn.to_csv('solutions/Regression_SW_mlp_nn.txt', sep=',', header=False)"
   ]
  },
  {
   "cell_type": "code",
   "execution_count": 68,
   "id": "6af40188",
   "metadata": {},
   "outputs": [],
   "source": [
    "from sklearn.inspection import permutation_importance\n",
    "\n",
    "r = permutation_importance(clf_nn, test_std, y=truth_test, n_repeats=20, random_state=12)  #takes a long time to run! "
   ]
  },
  {
   "cell_type": "code",
   "execution_count": 59,
   "id": "e137b89f",
   "metadata": {},
   "outputs": [
    {
     "name": "stdout",
     "output_type": "stream",
     "text": [
      "0           actualInteractionsPerCrossing                   0.771 +/- 0.024\n",
      "1           averageInteractionsPerCrossing                  0.049 +/- 0.003\n",
      "6           NvtxReco                                        0.035 +/- 0.002\n",
      "7           p_nTracks                                       0.022 +/- 0.002    *\n",
      "9           p_eta                                           0.013 +/- 0.003\n",
      "8           p_pt_track                                      0.013 +/- 0.001    *\n",
      "10          p_phi                                           0.010 +/- 0.001\n",
      "18          p_dPOverP                                       0.008 +/- 0.001\n",
      "17          p_EptRatio                                      0.007 +/- 0.001    *\n",
      "5           correctedScaledAverageMu                        0.005 +/- 0.001\n",
      "16          p_d0Sig                                         0.004 +/- 0.001    *\n",
      "15          p_sigmad0                                       0.003 +/- 0.001\n",
      "11          p_charge                                        0.002 +/- 0.001\n"
     ]
    }
   ],
   "source": [
    "bv3 = []\n",
    "for i in r.importances_mean.argsort()[::-1]:\n",
    "    if r.importances_mean[i] - 2 * r.importances_std[i] > 0 and r.importances_mean[i] > 0.0007 and i in bv:\n",
    "        print(f\"{i:<12}\" f\"{all_variables[i]:<48}\"   f\"{r.importances_mean[i]:.3f}\" f\" +/- {r.importances_std[i]:.3f}    *\")\n",
    "        bv3.append(i)\n",
    "    elif r.importances_mean[i] - 2 * r.importances_std[i] > 0 and r.importances_mean[i] >= 0.0007:\n",
    "        print(f\"{i:<12}\" f\"{all_variables[i]:<48}\"   f\"{r.importances_mean[i]:.3f}\" f\" +/- {r.importances_std[i]:.3f}\")\n",
    "        bv3.append(i)"
   ]
  },
  {
   "cell_type": "code",
   "execution_count": 60,
   "id": "05051dec",
   "metadata": {},
   "outputs": [
    {
     "data": {
      "text/plain": [
       "[0, 1, 6, 7, 9, 8, 10, 18, 17, 5, 16, 15, 11]"
      ]
     },
     "execution_count": 60,
     "metadata": {},
     "output_type": "execute_result"
    }
   ],
   "source": [
    "bv3"
   ]
  },
  {
   "cell_type": "code",
   "execution_count": 147,
   "id": "98529f23",
   "metadata": {},
   "outputs": [
    {
     "data": {
      "text/plain": [
       "18"
      ]
     },
     "execution_count": 147,
     "metadata": {},
     "output_type": "execute_result"
    }
   ],
   "source": [
    "#core57cellsenergycorrection\n",
    "\n",
    "len(bv2)"
   ]
  },
  {
   "cell_type": "code",
   "execution_count": 156,
   "id": "b2b82e16",
   "metadata": {},
   "outputs": [
    {
     "data": {
      "text/plain": [
       "20"
      ]
     },
     "execution_count": 156,
     "metadata": {},
     "output_type": "execute_result"
    }
   ],
   "source": [
    "len(bv)"
   ]
  },
  {
   "cell_type": "code",
   "execution_count": 157,
   "id": "afa6ab75",
   "metadata": {},
   "outputs": [
    {
     "name": "stdout",
     "output_type": "stream",
     "text": [
      "['p_eCluster', 'p_eAccCluster', 'p_qOverP', 'p_deltaEta1', 'p_deltaEta2', 'p_nCells_Lr1_HiG', 'p_ecore', 'p_rawECluster', 'p_core57cellsEnergyCorrection', 'p_widths1', 'p_EptRatio', 'p_r33over37allcalo', 'p_pt_track', 'p_d0', 'p_deltaPhiRescaled1', 'p_nTracks', 'p_E3x5_Lr1', 'p_fracs1', 'p_DeltaE', 'p_d0Sig']\n"
     ]
    }
   ],
   "source": [
    "print(bv)"
   ]
  },
  {
   "cell_type": "code",
   "execution_count": 162,
   "id": "391ac98a",
   "metadata": {},
   "outputs": [
    {
     "name": "stdout",
     "output_type": "stream",
     "text": [
      "['p_eCluster', 'p_eAccCluster', 'p_qOverP', 'p_deltaEta1', 'p_deltaEta2', 'p_nCells_Lr1_HiG', 'p_ecore', 'p_rawECluster', 'p_core57cellsEnergyCorrection', 'p_widths1', 'p_EptRatio', 'p_r33over37allcalo', 'p_pt_track', 'p_d0', 'p_deltaPhiRescaled1', 'p_nTracks', 'p_E3x5_Lr1', 'p_fracs1', 'p_DeltaE', 'p_d0Sig']\n"
     ]
    }
   ],
   "source": [
    "print(best_variables)"
   ]
  },
  {
   "cell_type": "code",
   "execution_count": 186,
   "id": "15892ece",
   "metadata": {},
   "outputs": [],
   "source": [
    "def plot_pca(y_pcs, y):\n",
    "    #=== plot PCA results\n",
    "    fig, ax = plt.subplots(1, figsize=(10, 10), dpi=100)\n",
    "    #ax.set_xlim(np.percentile(y_pcs[:,0], 99), np.percentile(y_pcs[:,0], 1))\n",
    "    #ax.set_ylim(np.percentile(y_pcs[:,1], 99), np.percentile(y_pcs[:,1], 1))\n",
    "    ax.set_xlabel('Component 1')\n",
    "    ax.set_ylabel('Component 2')\n",
    "\n",
    "    # locate the points of each type in the original data\n",
    "    # and paint them over the transformed data\n",
    "    is_type1 = (y == 0)\n",
    "    is_type2 = (y == 1)\n",
    "    is_type3 = (y == 2)\n",
    "    ax.scatter(y_pcs[is_type1, 0], y_pcs[is_type1, 1], \n",
    "               c='y', marker='s', label='Type 1')\n",
    "    ax.scatter(y_pcs[is_type2, 0], y_pcs[is_type2, 1], \n",
    "               c='b', marker='o', label='Type 2')\n",
    "    ax.scatter(y_pcs[is_type3, 0], y_pcs[is_type3, 1], \n",
    "               c='g', marker='^', label='Type 3')\n",
    "    ax.scatter(y_pcs[0], y_pcs[1])\n",
    "    ax.legend()\n",
    "    plt.show()\n",
    "    return "
   ]
  },
  {
   "cell_type": "code",
   "execution_count": 188,
   "id": "141fdaea",
   "metadata": {},
   "outputs": [
    {
     "data": {
      "image/png": "[encoded data removed]",
      "text/plain": [
       "<Figure size 1000x1000 with 1 Axes>"
      ]
     },
     "metadata": {},
     "output_type": "display_data"
    },
    {
     "data": {
      "text/plain": [
       "array([[ -21752.16985399,  163457.87615831,  -14703.95839143],\n",
       "       [  -4217.98428548, -118994.51770287,    2325.41774125],\n",
       "       [ -14382.71446957,   86634.56701184,  -12582.16635246],\n",
       "       ...,\n",
       "       [  -3574.18776044,  -70526.70162405,     416.38954858],\n",
       "       [ -11815.84965731,  -39345.21868054,   -4120.7929282 ],\n",
       "       [   2657.9789349 ,  152752.55320076,  -18183.25114027]])"
      ]
     },
     "execution_count": 188,
     "metadata": {},
     "output_type": "execute_result"
    }
   ],
   "source": [
    "pca = PCA(n_components=3, svd_solver='full') # get a pca object of class PCA()\n",
    "y_pcs = pca.fit_transform(input_train) # train pca object\n",
    "\n",
    "# plot PCA results\n",
    "plot_pca(y_pcs, truth_train)\n",
    "y_pcs"
   ]
  },
  {
   "cell_type": "code",
   "execution_count": null,
   "id": "05c57cb2",
   "metadata": {},
   "outputs": [],
   "source": []
  }
 ],
 "metadata": {
  "kernelspec": {
   "display_name": "Python 3 (ipykernel)",
   "language": "python",
   "name": "python3"
  },
  "language_info": {
   "codemirror_mode": {
    "name": "ipython",
    "version": 3
   },
   "file_extension": ".py",
   "mimetype": "text/x-python",
   "name": "python",
   "nbconvert_exporter": "python",
   "pygments_lexer": "ipython3",
   "version": "3.10.9"
  }
 },
 "nbformat": 4,
 "nbformat_minor": 5
}
